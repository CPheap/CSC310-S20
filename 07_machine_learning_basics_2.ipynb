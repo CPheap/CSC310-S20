{
  "nbformat": 4,
  "nbformat_minor": 0,
  "metadata": {
    "kernelspec": {
      "display_name": "Python 3",
      "language": "python",
      "name": "python3"
    },
    "language_info": {
      "codemirror_mode": {
        "name": "ipython",
        "version": 3
      },
      "file_extension": ".py",
      "mimetype": "text/x-python",
      "name": "python",
      "nbconvert_exporter": "python",
      "pygments_lexer": "ipython3",
      "version": "3.7.6"
    },
    "colab": {
      "name": "07-machine-learning-basics-2.ipynb",
      "provenance": [],
      "include_colab_link": true
    }
  },
  "cells": [
    {
      "cell_type": "markdown",
      "metadata": {
        "id": "view-in-github",
        "colab_type": "text"
      },
      "source": [
        "<a href=\"https://colab.research.google.com/github/IndraniMandal/CSC310-S20/blob/master/07_machine_learning_basics_2.ipynb\" target=\"_parent\"><img src=\"https://colab.research.google.com/assets/colab-badge.svg\" alt=\"Open In Colab\"/></a>"
      ]
    },
    {
      "cell_type": "code",
      "metadata": {
        "id": "N2eeki8n7B8A"
      },
      "source": [
        "# preamble to be able to run notebooks in Jupyter and Colab\n",
        "try:\n",
        "    from google.colab import drive\n",
        "    import sys\n",
        "    \n",
        "    drive.mount('/content/drive')\n",
        "    notes_home = \"/content/drive/CSC310/notes/\"\n",
        "    user_home = \"/content/drive/My Drive/\"\n",
        "    \n",
        "    sys.path.insert(1,notes_home) # let the notebook access the notes folder\n",
        "\n",
        "except ModuleNotFoundError:\n",
        "    notes_home = \"\" # running native Jupyter environment -- notes home is the same as the notebook\n",
        "    user_home = \"\"  # under Jupyter we assume the user directory is the same as the notebook"
      ],
      "execution_count": null,
      "outputs": []
    },
    {
      "cell_type": "markdown",
      "metadata": {
        "id": "ka7DKQ3K7B8H"
      },
      "source": [
        "# Machine learning with Decision Trees\n",
        "\n",
        "We will use the scikit-learn module - sklearn."
      ]
    },
    {
      "cell_type": "code",
      "metadata": {
        "id": "ZjptrTAL7B8I"
      },
      "source": [
        "import pandas as pd\n",
        "from sklearn import tree\n",
        "from assets.treeviz import tree_print\n",
        "from sklearn.metrics import accuracy_score"
      ],
      "execution_count": null,
      "outputs": []
    },
    {
      "cell_type": "markdown",
      "metadata": {
        "id": "5XnDvQuF7B8M"
      },
      "source": [
        "## Example: Iris Data\n",
        "\n",
        "**Important:** for decision trees in sklearn the feature matrix has to be numerical!\n",
        "\n",
        "Let's read the data into a data frame: df"
      ]
    },
    {
      "cell_type": "code",
      "metadata": {
        "id": "5ifDLLdl7B8N",
        "outputId": "2be13097-23b4-496a-e9f8-ec2d92d90984"
      },
      "source": [
        "df = pd.read_csv(notes_home+\"assets/iris.csv\")\n",
        "df.head()"
      ],
      "execution_count": null,
      "outputs": [
        {
          "output_type": "execute_result",
          "data": {
            "text/html": [
              "<div>\n",
              "<style scoped>\n",
              "    .dataframe tbody tr th:only-of-type {\n",
              "        vertical-align: middle;\n",
              "    }\n",
              "\n",
              "    .dataframe tbody tr th {\n",
              "        vertical-align: top;\n",
              "    }\n",
              "\n",
              "    .dataframe thead th {\n",
              "        text-align: right;\n",
              "    }\n",
              "</style>\n",
              "<table border=\"1\" class=\"dataframe\">\n",
              "  <thead>\n",
              "    <tr style=\"text-align: right;\">\n",
              "      <th></th>\n",
              "      <th>id</th>\n",
              "      <th>Sepal.Length</th>\n",
              "      <th>Sepal.Width</th>\n",
              "      <th>Petal.Length</th>\n",
              "      <th>Petal.Width</th>\n",
              "      <th>Species</th>\n",
              "    </tr>\n",
              "  </thead>\n",
              "  <tbody>\n",
              "    <tr>\n",
              "      <th>0</th>\n",
              "      <td>1</td>\n",
              "      <td>5.1</td>\n",
              "      <td>3.5</td>\n",
              "      <td>1.4</td>\n",
              "      <td>0.2</td>\n",
              "      <td>setosa</td>\n",
              "    </tr>\n",
              "    <tr>\n",
              "      <th>1</th>\n",
              "      <td>2</td>\n",
              "      <td>4.9</td>\n",
              "      <td>3.0</td>\n",
              "      <td>1.4</td>\n",
              "      <td>0.2</td>\n",
              "      <td>setosa</td>\n",
              "    </tr>\n",
              "    <tr>\n",
              "      <th>2</th>\n",
              "      <td>3</td>\n",
              "      <td>4.7</td>\n",
              "      <td>3.2</td>\n",
              "      <td>1.3</td>\n",
              "      <td>0.2</td>\n",
              "      <td>setosa</td>\n",
              "    </tr>\n",
              "    <tr>\n",
              "      <th>3</th>\n",
              "      <td>4</td>\n",
              "      <td>4.6</td>\n",
              "      <td>3.1</td>\n",
              "      <td>1.5</td>\n",
              "      <td>0.2</td>\n",
              "      <td>setosa</td>\n",
              "    </tr>\n",
              "    <tr>\n",
              "      <th>4</th>\n",
              "      <td>5</td>\n",
              "      <td>5.0</td>\n",
              "      <td>3.6</td>\n",
              "      <td>1.4</td>\n",
              "      <td>0.2</td>\n",
              "      <td>setosa</td>\n",
              "    </tr>\n",
              "  </tbody>\n",
              "</table>\n",
              "</div>"
            ],
            "text/plain": [
              "   id  Sepal.Length  Sepal.Width  Petal.Length  Petal.Width Species\n",
              "0   1           5.1          3.5           1.4          0.2  setosa\n",
              "1   2           4.9          3.0           1.4          0.2  setosa\n",
              "2   3           4.7          3.2           1.3          0.2  setosa\n",
              "3   4           4.6          3.1           1.5          0.2  setosa\n",
              "4   5           5.0          3.6           1.4          0.2  setosa"
            ]
          },
          "metadata": {
            "tags": []
          },
          "execution_count": 3
        }
      ]
    },
    {
      "cell_type": "markdown",
      "metadata": {
        "id": "86k4vtFv7B8T"
      },
      "source": [
        "Set up the data according to sklearn specs: **feature matrix** and **target vector**:"
      ]
    },
    {
      "cell_type": "code",
      "metadata": {
        "id": "LHFbwvy27B8U",
        "outputId": "67f67a48-2a9b-4e84-e3bb-d4d6eefd3ea1"
      },
      "source": [
        "features_df = df.drop(['id','Species'],axis=1)\n",
        "features_df.head()"
      ],
      "execution_count": null,
      "outputs": [
        {
          "output_type": "execute_result",
          "data": {
            "text/html": [
              "<div>\n",
              "<style scoped>\n",
              "    .dataframe tbody tr th:only-of-type {\n",
              "        vertical-align: middle;\n",
              "    }\n",
              "\n",
              "    .dataframe tbody tr th {\n",
              "        vertical-align: top;\n",
              "    }\n",
              "\n",
              "    .dataframe thead th {\n",
              "        text-align: right;\n",
              "    }\n",
              "</style>\n",
              "<table border=\"1\" class=\"dataframe\">\n",
              "  <thead>\n",
              "    <tr style=\"text-align: right;\">\n",
              "      <th></th>\n",
              "      <th>Sepal.Length</th>\n",
              "      <th>Sepal.Width</th>\n",
              "      <th>Petal.Length</th>\n",
              "      <th>Petal.Width</th>\n",
              "    </tr>\n",
              "  </thead>\n",
              "  <tbody>\n",
              "    <tr>\n",
              "      <th>0</th>\n",
              "      <td>5.1</td>\n",
              "      <td>3.5</td>\n",
              "      <td>1.4</td>\n",
              "      <td>0.2</td>\n",
              "    </tr>\n",
              "    <tr>\n",
              "      <th>1</th>\n",
              "      <td>4.9</td>\n",
              "      <td>3.0</td>\n",
              "      <td>1.4</td>\n",
              "      <td>0.2</td>\n",
              "    </tr>\n",
              "    <tr>\n",
              "      <th>2</th>\n",
              "      <td>4.7</td>\n",
              "      <td>3.2</td>\n",
              "      <td>1.3</td>\n",
              "      <td>0.2</td>\n",
              "    </tr>\n",
              "    <tr>\n",
              "      <th>3</th>\n",
              "      <td>4.6</td>\n",
              "      <td>3.1</td>\n",
              "      <td>1.5</td>\n",
              "      <td>0.2</td>\n",
              "    </tr>\n",
              "    <tr>\n",
              "      <th>4</th>\n",
              "      <td>5.0</td>\n",
              "      <td>3.6</td>\n",
              "      <td>1.4</td>\n",
              "      <td>0.2</td>\n",
              "    </tr>\n",
              "  </tbody>\n",
              "</table>\n",
              "</div>"
            ],
            "text/plain": [
              "   Sepal.Length  Sepal.Width  Petal.Length  Petal.Width\n",
              "0           5.1          3.5           1.4          0.2\n",
              "1           4.9          3.0           1.4          0.2\n",
              "2           4.7          3.2           1.3          0.2\n",
              "3           4.6          3.1           1.5          0.2\n",
              "4           5.0          3.6           1.4          0.2"
            ]
          },
          "metadata": {
            "tags": []
          },
          "execution_count": 4
        }
      ]
    },
    {
      "cell_type": "code",
      "metadata": {
        "id": "h2Bqp3E27B8c",
        "outputId": "8f97fc1a-4b8d-402b-d485-2b094ae6094b"
      },
      "source": [
        "target_df = pd.DataFrame(df['Species'])\n",
        "target_df.head()"
      ],
      "execution_count": null,
      "outputs": [
        {
          "output_type": "execute_result",
          "data": {
            "text/html": [
              "<div>\n",
              "<style scoped>\n",
              "    .dataframe tbody tr th:only-of-type {\n",
              "        vertical-align: middle;\n",
              "    }\n",
              "\n",
              "    .dataframe tbody tr th {\n",
              "        vertical-align: top;\n",
              "    }\n",
              "\n",
              "    .dataframe thead th {\n",
              "        text-align: right;\n",
              "    }\n",
              "</style>\n",
              "<table border=\"1\" class=\"dataframe\">\n",
              "  <thead>\n",
              "    <tr style=\"text-align: right;\">\n",
              "      <th></th>\n",
              "      <th>Species</th>\n",
              "    </tr>\n",
              "  </thead>\n",
              "  <tbody>\n",
              "    <tr>\n",
              "      <th>0</th>\n",
              "      <td>setosa</td>\n",
              "    </tr>\n",
              "    <tr>\n",
              "      <th>1</th>\n",
              "      <td>setosa</td>\n",
              "    </tr>\n",
              "    <tr>\n",
              "      <th>2</th>\n",
              "      <td>setosa</td>\n",
              "    </tr>\n",
              "    <tr>\n",
              "      <th>3</th>\n",
              "      <td>setosa</td>\n",
              "    </tr>\n",
              "    <tr>\n",
              "      <th>4</th>\n",
              "      <td>setosa</td>\n",
              "    </tr>\n",
              "  </tbody>\n",
              "</table>\n",
              "</div>"
            ],
            "text/plain": [
              "  Species\n",
              "0  setosa\n",
              "1  setosa\n",
              "2  setosa\n",
              "3  setosa\n",
              "4  setosa"
            ]
          },
          "metadata": {
            "tags": []
          },
          "execution_count": 5
        }
      ]
    },
    {
      "cell_type": "markdown",
      "metadata": {
        "id": "CnttYrgy7B8n"
      },
      "source": [
        "We are ready to build our decision tree. Set up the model:"
      ]
    },
    {
      "cell_type": "code",
      "metadata": {
        "id": "Y9jEaErl7B8q"
      },
      "source": [
        "dtree = tree.DecisionTreeClassifier(criterion='entropy')"
      ],
      "execution_count": null,
      "outputs": []
    },
    {
      "cell_type": "markdown",
      "metadata": {
        "id": "y6gyWy8p7B80"
      },
      "source": [
        "Build the model:"
      ]
    },
    {
      "cell_type": "code",
      "metadata": {
        "id": "P-3BC1uU7B81",
        "outputId": "eb33965b-2851-473c-d441-61803814b408"
      },
      "source": [
        "dtree.fit(features_df,target_df)"
      ],
      "execution_count": null,
      "outputs": [
        {
          "output_type": "execute_result",
          "data": {
            "text/plain": [
              "DecisionTreeClassifier(ccp_alpha=0.0, class_weight=None, criterion='entropy',\n",
              "                       max_depth=None, max_features=None, max_leaf_nodes=None,\n",
              "                       min_impurity_decrease=0.0, min_impurity_split=None,\n",
              "                       min_samples_leaf=1, min_samples_split=2,\n",
              "                       min_weight_fraction_leaf=0.0, presort='deprecated',\n",
              "                       random_state=None, splitter='best')"
            ]
          },
          "metadata": {
            "tags": []
          },
          "execution_count": 7
        }
      ]
    },
    {
      "cell_type": "markdown",
      "metadata": {
        "id": "tQsWErz-7B9A"
      },
      "source": [
        "Show the actual model.  Decision trees are transparent models so we can just look at them:"
      ]
    },
    {
      "cell_type": "code",
      "metadata": {
        "id": "o7EXLJwH7B9B",
        "outputId": "ce4bb9c3-fbfc-4f1a-aa9e-fbdde51ff6c8"
      },
      "source": [
        "tree_print(dtree,features_df)"
      ],
      "execution_count": null,
      "outputs": [
        {
          "output_type": "stream",
          "text": [
            "if Petal.Length =< 2.449999988079071: \n",
            "  |then setosa\n",
            "  |else if Petal.Width =< 1.75: \n",
            "  |  |then if Petal.Length =< 4.950000047683716: \n",
            "  |  |  |then if Petal.Width =< 1.6500000357627869: \n",
            "  |  |  |  |then versicolor\n",
            "  |  |  |  |else virginica\n",
            "  |  |  |else if Petal.Width =< 1.550000011920929: \n",
            "  |  |  |  |then virginica\n",
            "  |  |  |  |else if Petal.Length =< 5.450000047683716: \n",
            "  |  |  |  |  |then versicolor\n",
            "  |  |  |  |  |else virginica\n",
            "  |  |else if Petal.Length =< 4.8500001430511475: \n",
            "  |  |  |then if Sepal.Width =< 3.100000023841858: \n",
            "  |  |  |  |then virginica\n",
            "  |  |  |  |else versicolor\n",
            "  |  |  |else virginica\n",
            "<------------->\n",
            "Tree Depth:  5\n"
          ],
          "name": "stdout"
        }
      ]
    },
    {
      "cell_type": "markdown",
      "metadata": {
        "id": "cmNgnX-C7B9H"
      },
      "source": [
        "Let's **evaluate** our model.  Does it make any mistakes when we apply the model back on the training data.  Recall that 'target_df' holds the vector with the original labels.  The idea is to apply our model to the training data 'features_df' and obtain **predicted** labels:\n",
        "\n",
        "> A correct model is a model where the predicted labels equal the original training labels"
      ]
    },
    {
      "cell_type": "code",
      "metadata": {
        "id": "8HOGg2SY7B9I"
      },
      "source": [
        "predict_array = dtree.predict(features_df)      # produces an array of labels\n",
        "predicted_labels = pd.DataFrame(predict_array)  # turn it into a DF\n",
        "predicted_labels.columns = ['Species']          # name the column - same name as in target!"
      ],
      "execution_count": null,
      "outputs": []
    },
    {
      "cell_type": "code",
      "metadata": {
        "id": "qs3uHcTJ7B9N",
        "outputId": "8ee66265-3886-45f7-c9fd-964da1a1153c"
      },
      "source": [
        "predicted_labels.head()"
      ],
      "execution_count": null,
      "outputs": [
        {
          "output_type": "execute_result",
          "data": {
            "text/html": [
              "<div>\n",
              "<style scoped>\n",
              "    .dataframe tbody tr th:only-of-type {\n",
              "        vertical-align: middle;\n",
              "    }\n",
              "\n",
              "    .dataframe tbody tr th {\n",
              "        vertical-align: top;\n",
              "    }\n",
              "\n",
              "    .dataframe thead th {\n",
              "        text-align: right;\n",
              "    }\n",
              "</style>\n",
              "<table border=\"1\" class=\"dataframe\">\n",
              "  <thead>\n",
              "    <tr style=\"text-align: right;\">\n",
              "      <th></th>\n",
              "      <th>Species</th>\n",
              "    </tr>\n",
              "  </thead>\n",
              "  <tbody>\n",
              "    <tr>\n",
              "      <th>0</th>\n",
              "      <td>setosa</td>\n",
              "    </tr>\n",
              "    <tr>\n",
              "      <th>1</th>\n",
              "      <td>setosa</td>\n",
              "    </tr>\n",
              "    <tr>\n",
              "      <th>2</th>\n",
              "      <td>setosa</td>\n",
              "    </tr>\n",
              "    <tr>\n",
              "      <th>3</th>\n",
              "      <td>setosa</td>\n",
              "    </tr>\n",
              "    <tr>\n",
              "      <th>4</th>\n",
              "      <td>setosa</td>\n",
              "    </tr>\n",
              "  </tbody>\n",
              "</table>\n",
              "</div>"
            ],
            "text/plain": [
              "  Species\n",
              "0  setosa\n",
              "1  setosa\n",
              "2  setosa\n",
              "3  setosa\n",
              "4  setosa"
            ]
          },
          "metadata": {
            "tags": []
          },
          "execution_count": 10
        }
      ]
    },
    {
      "cell_type": "code",
      "metadata": {
        "id": "wgkAnsn27B9T",
        "outputId": "d37c018d-788e-459f-9a1f-66405772673b"
      },
      "source": [
        "target_df.head()"
      ],
      "execution_count": null,
      "outputs": [
        {
          "output_type": "execute_result",
          "data": {
            "text/html": [
              "<div>\n",
              "<style scoped>\n",
              "    .dataframe tbody tr th:only-of-type {\n",
              "        vertical-align: middle;\n",
              "    }\n",
              "\n",
              "    .dataframe tbody tr th {\n",
              "        vertical-align: top;\n",
              "    }\n",
              "\n",
              "    .dataframe thead th {\n",
              "        text-align: right;\n",
              "    }\n",
              "</style>\n",
              "<table border=\"1\" class=\"dataframe\">\n",
              "  <thead>\n",
              "    <tr style=\"text-align: right;\">\n",
              "      <th></th>\n",
              "      <th>Species</th>\n",
              "    </tr>\n",
              "  </thead>\n",
              "  <tbody>\n",
              "    <tr>\n",
              "      <th>0</th>\n",
              "      <td>setosa</td>\n",
              "    </tr>\n",
              "    <tr>\n",
              "      <th>1</th>\n",
              "      <td>setosa</td>\n",
              "    </tr>\n",
              "    <tr>\n",
              "      <th>2</th>\n",
              "      <td>setosa</td>\n",
              "    </tr>\n",
              "    <tr>\n",
              "      <th>3</th>\n",
              "      <td>setosa</td>\n",
              "    </tr>\n",
              "    <tr>\n",
              "      <th>4</th>\n",
              "      <td>setosa</td>\n",
              "    </tr>\n",
              "  </tbody>\n",
              "</table>\n",
              "</div>"
            ],
            "text/plain": [
              "  Species\n",
              "0  setosa\n",
              "1  setosa\n",
              "2  setosa\n",
              "3  setosa\n",
              "4  setosa"
            ]
          },
          "metadata": {
            "tags": []
          },
          "execution_count": 11
        }
      ]
    },
    {
      "cell_type": "markdown",
      "metadata": {
        "id": "EtpNeQVJ7B9a"
      },
      "source": [
        "Now see if the predicted labels equal the labels in target_df:"
      ]
    },
    {
      "cell_type": "code",
      "metadata": {
        "id": "IlbGhxJq7B9b",
        "outputId": "3db5494d-4b55-4e2d-abb8-9ea6f7ae819c"
      },
      "source": [
        "predicted_labels.equals(target_df)"
      ],
      "execution_count": null,
      "outputs": [
        {
          "output_type": "execute_result",
          "data": {
            "text/plain": [
              "True"
            ]
          },
          "metadata": {
            "tags": []
          },
          "execution_count": 12
        }
      ]
    },
    {
      "cell_type": "markdown",
      "metadata": {
        "id": "WT9Ja3ah7B9g"
      },
      "source": [
        "### Our Model is 100% correct!"
      ]
    },
    {
      "cell_type": "markdown",
      "metadata": {
        "id": "rBMxMAu27B9h"
      },
      "source": [
        "# Model Accuracy\n",
        "\n",
        "We can do a little bit better than just getting a true or false back on the question how good our model is: **model accuracy**\n",
        "\n",
        "Model accurary is defined as:\n",
        "\n",
        "> $ accuracy = 1 - \\frac{number of errors}{size of data}$\n",
        "\n",
        "sklean has a function for that: **accuracy_score**"
      ]
    },
    {
      "cell_type": "code",
      "metadata": {
        "id": "_oHfPfQT7B9i",
        "outputId": "fb68b2d4-2680-4b0a-b536-cabcf0c9bd0d"
      },
      "source": [
        "from sklearn.metrics import accuracy_score\n",
        "\n",
        "print(\"Our model accuracy is: {}\".format(accuracy_score(target_df, predicted_labels)))"
      ],
      "execution_count": null,
      "outputs": [
        {
          "output_type": "stream",
          "text": [
            "Our model accuracy is: 1.0\n"
          ],
          "name": "stdout"
        }
      ]
    },
    {
      "cell_type": "markdown",
      "metadata": {
        "id": "lBXfYaGj7B9n"
      },
      "source": [
        "# Model Parameters\n",
        "\n",
        "The decision tree model has many *hyperparameters* that we can change.  \n",
        "\n",
        "```\n",
        "DecisionTreeClassifier(class_weight=None, criterion='entropy', max_depth=None,\n",
        "            max_features=None, max_leaf_nodes=None,\n",
        "            min_impurity_split=1e-07, min_samples_leaf=1,\n",
        "            min_samples_split=2, min_weight_fraction_leaf=0.0,\n",
        "            presort=False, random_state=None, splitter='best')\n",
        "```\n",
        "The one parameter that we did set in our previous model was **entropy**:\n",
        "```\n",
        "dtree = tree.DecisionTreeClassifier(criterion='entropy')\n",
        "```\n",
        "Another important parameter for decision trees is the **max_depth** parameter.  It helps us to control **model complexity**.\n",
        "\n",
        "Let's build another model where we restrict the complexity..."
      ]
    },
    {
      "cell_type": "code",
      "metadata": {
        "id": "xKzj6zsY7B9o",
        "outputId": "bff83ed8-d128-47ab-ab85-c9ff96e36082"
      },
      "source": [
        "dtree2 = tree.DecisionTreeClassifier(criterion='entropy', max_depth=2)\n",
        "dtree2.fit(features_df,target_df)"
      ],
      "execution_count": null,
      "outputs": [
        {
          "output_type": "execute_result",
          "data": {
            "text/plain": [
              "DecisionTreeClassifier(ccp_alpha=0.0, class_weight=None, criterion='entropy',\n",
              "                       max_depth=2, max_features=None, max_leaf_nodes=None,\n",
              "                       min_impurity_decrease=0.0, min_impurity_split=None,\n",
              "                       min_samples_leaf=1, min_samples_split=2,\n",
              "                       min_weight_fraction_leaf=0.0, presort='deprecated',\n",
              "                       random_state=None, splitter='best')"
            ]
          },
          "metadata": {
            "tags": []
          },
          "execution_count": 14
        }
      ]
    },
    {
      "cell_type": "code",
      "metadata": {
        "id": "pq-EWmlV7B9s",
        "outputId": "c34555d8-4dde-4644-96ff-51ada6efcbbe"
      },
      "source": [
        "tree_print(dtree2,features_df)"
      ],
      "execution_count": null,
      "outputs": [
        {
          "output_type": "stream",
          "text": [
            "if Petal.Length =< 2.449999988079071: \n",
            "  |then setosa\n",
            "  |else if Petal.Width =< 1.75: \n",
            "  |  |then versicolor\n",
            "  |  |else virginica\n",
            "<---->\n",
            "Tree Depth:  2\n"
          ],
          "name": "stdout"
        }
      ]
    },
    {
      "cell_type": "code",
      "metadata": {
        "id": "pQoqEI9j7B9y",
        "outputId": "e3e33f0f-096e-4b1d-95a1-9c478922054c"
      },
      "source": [
        "predict_array2 = dtree2.predict(features_df)      # produces an array of labels\n",
        "predicted_labels2 = pd.DataFrame(predict_array2)  # turn it into a DF\n",
        "predicted_labels2.columns = ['Species']           # name the column - same name as in target!\n",
        "\n",
        "print(\"Our model accuracy is: {}\".format(accuracy_score(target_df, predicted_labels2)))"
      ],
      "execution_count": null,
      "outputs": [
        {
          "output_type": "stream",
          "text": [
            "Our model accuracy is: 0.96\n"
          ],
          "name": "stdout"
        }
      ]
    },
    {
      "cell_type": "markdown",
      "metadata": {
        "id": "-MJbfwYl7B94"
      },
      "source": [
        "**Observation**: by restricting the complexity of the model we often obtain very readable and\n",
        "understandable models without sacrificing a lot of accuracy!"
      ]
    },
    {
      "cell_type": "markdown",
      "metadata": {
        "id": "FJ3QV_dr7B95"
      },
      "source": [
        "# Reading\n",
        "\n",
        "* 5.0 [Machine Learning](https://jakevdp.github.io/PythonDataScienceHandbook/05.00-machine-learning.html)\n",
        "* 5.1 [What Is Machine Learning?](https://jakevdp.github.io/PythonDataScienceHandbook/05.01-what-is-machine-learning.html)\n",
        "* 5.2 [Introducing Scikit-Learn](https://jakevdp.github.io/PythonDataScienceHandbook/05.02-introducing-scikit-learn.html)\n"
      ]
    },
    {
      "cell_type": "markdown",
      "metadata": {
        "id": "YOph8IGV7B96"
      },
      "source": [
        "# Team Exercise\n",
        "\n",
        "* Download/Load the numeric play tennis data set from Google Drive:      https://docs.google.com/spreadsheets/d/1O2NArpsd7fI-cumkwOKiST2IYFc7vbIJoTNcYwqjuSA/edit?usp=sharing\n",
        "* Download/Load the treeviz.py file from github:https://github.com/IndraniMandal/CSC310-S20/blob/master/notes/treeviz.py\n",
        "* Build a decision tree and print it using treeviz.py\n",
        "* Try to answer the question if the tree models the data set completely (hint: use accuracy_score)\n",
        "* Then find another data set, only **numeric features** and with **target labels**, **NO** regression data sets.\n",
        "* Build a tree, visualize it, and then evaluate the model using *accuracy_score*.\n",
        "* OR \n",
        "\n",
        "You could create visualize the decision tree with dtreeviz module here: https://colab.research.google.com/drive/1hz-WalWOOAd_6IXg3659kgXEdstZpUzH?usp=sharing\n",
        "\n",
        "Use RAW data from here: https://raw.githubusercontent.com/IndraniMandal/CSC310-S20/master/notes/assets/tennis_numeric.csv\n",
        "\n",
        "The following are all the *import* statements you will need.\n",
        "```\n",
        "import pandas as pd\n",
        "from sklearn import tree\n",
        "from treeviz import tree_print\n",
        "from sklearn.metrics import accuracy_score\n",
        "\n",
        "```"
      ]
    },
    {
      "cell_type": "markdown",
      "metadata": {
        "id": "Xe9R4QFq7B96"
      },
      "source": [
        "## Teams\n",
        "\n",
        "```\n",
        "\n",
        "```"
      ]
    }
  ]
}